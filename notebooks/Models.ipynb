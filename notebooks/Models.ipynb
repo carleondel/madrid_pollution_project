{
 "cells": [
  {
   "cell_type": "markdown",
   "metadata": {},
   "source": [
    "## MODELS EXPLORATION\n",
    "**GOAL**:\n",
    "In this notebook we will explore different models and compare their performance. We want to predict NO2 levels 3 days ahead."
   ]
  },
  {
   "cell_type": "markdown",
   "metadata": {},
   "source": [
    "To create a prediction model for NO2 levels 3 days ahead involves considering several aspects:\n",
    "\n",
    "1. Variables to Input:\n",
    "- Historical NO2 Levels: Include historical NO2 level data to capture patterns and trends over time. We will make improvements by adding data from more years.\n",
    "- Meteorological Conditions: Factors such as temperature, humidity, wind speed can influence NO2 concentration.\n",
    "- Day of the Week: There are variations depending on the day of the week.\n",
    "- Hour: We saw strong hourly patterns in the EDA.\n",
    "- Special Events: Incorporate special events, such as holidays or local events that could affect pollution levels.\n",
    "\n",
    "2. Historical Data Depth:\n",
    "        The amount of historical data to consider depends on the periodicity of patterns in NO2 levels. Since there are monthly patterns, we should add data from other years.\n",
    "\n",
    "3. Modeling Techniques to Test:\n",
    "        - Time Regression: Use time regression techniques, such as ARIMA (AutoRegressive Integrated Moving Average), which are effective for modeling time series.\n",
    "        - Machine Learning: Employ supervised learning algorithms to capture complex patterns in temporal data. Since we are working with tabular data, we will focus on gradient boosting techniques (XGBoost, LightGBM, CatBoost) since these have proved to yield the best results.\n",
    "\n",
    "4. Model Evaluation:\n",
    "        Split the data into training and test sets to evaluate model performance.\n",
    "        Use metrics such as mean squared error (MSE) or mean absolute error (MAE) to assess prediction accuracy.\n",
    "\n",
    "5. Model Optimization:\n",
    "        Adjust model hyperparameters and test different configurations to improve performance.\n"
   ]
  },
  {
   "cell_type": "code",
   "execution_count": 187,
   "metadata": {},
   "outputs": [],
   "source": [
    "import pandas as pd\n",
    "import numpy as np\n",
    "import matplotlib.pyplot as plt\n",
    "import seaborn as sns\n",
    "\n",
    "from datetime import timedelta\n",
    "import matplotlib\n",
    "from typing import Tuple\n",
    "\n",
    "import xgboost as xgb\n",
    "import lightgbm as lgb\n",
    "from statsmodels.tsa.arima.model import ARIMA\n",
    "\n",
    "\n",
    "from sklearn.linear_model import LogisticRegression\n",
    "from sklearn.metrics import precision_recall_curve, roc_curve,roc_auc_score, auc\n",
    "from sklearn.pipeline import make_pipeline, Pipeline\n",
    "from sklearn.preprocessing import StandardScaler\n",
    "from sklearn.metrics import mean_squared_error, mean_absolute_error, r2_score"
   ]
  },
  {
   "cell_type": "code",
   "execution_count": 76,
   "metadata": {},
   "outputs": [],
   "source": [
    "df = pd.read_parquet('clean_data.parquet')"
   ]
  },
  {
   "cell_type": "markdown",
   "metadata": {},
   "source": [
    "As we saw big differences among levels of NO2 among months, we should consider training on more than one year. But in this case we will train with simpler models and only one year of data."
   ]
  },
  {
   "cell_type": "markdown",
   "metadata": {},
   "source": [
    "### Transforming our dataset\n",
    "Since we are trying to predict NO2 levels and in the EDA we saw the importance of the hour, the day of the week and the month (we won't use the month to train since we only have data from one year), we will create those features. And we will simplify the dataset, keeping the hourly average values of all stations."
   ]
  },
  {
   "cell_type": "code",
   "execution_count": 127,
   "metadata": {},
   "outputs": [],
   "source": [
    "df = df.groupby('FECHA').agg({'NO2_level': 'mean', 'temp': 'first'}).reset_index()\n",
    "\n",
    "df['NO2_level'] = df['NO2_level'].round(2)"
   ]
  },
  {
   "cell_type": "code",
   "execution_count": 133,
   "metadata": {},
   "outputs": [],
   "source": [
    "df['hour'] = df['FECHA'].dt.hour\n",
    "\n",
    "df['day_of_week'] = df['FECHA'].dt.day_name()\n",
    "\n",
    "df['month'] = df['FECHA'].dt.month_name()\n"
   ]
  },
  {
   "cell_type": "code",
   "execution_count": 134,
   "metadata": {},
   "outputs": [
    {
     "data": {
      "text/html": [
       "<div>\n",
       "<style scoped>\n",
       "    .dataframe tbody tr th:only-of-type {\n",
       "        vertical-align: middle;\n",
       "    }\n",
       "\n",
       "    .dataframe tbody tr th {\n",
       "        vertical-align: top;\n",
       "    }\n",
       "\n",
       "    .dataframe thead th {\n",
       "        text-align: right;\n",
       "    }\n",
       "</style>\n",
       "<table border=\"1\" class=\"dataframe\">\n",
       "  <thead>\n",
       "    <tr style=\"text-align: right;\">\n",
       "      <th></th>\n",
       "      <th>FECHA</th>\n",
       "      <th>NO2_level</th>\n",
       "      <th>temp</th>\n",
       "      <th>hour</th>\n",
       "      <th>day_of_week</th>\n",
       "      <th>month</th>\n",
       "    </tr>\n",
       "  </thead>\n",
       "  <tbody>\n",
       "    <tr>\n",
       "      <th>0</th>\n",
       "      <td>2018-01-01 00:30:00</td>\n",
       "      <td>13.38</td>\n",
       "      <td>7.3</td>\n",
       "      <td>0</td>\n",
       "      <td>Monday</td>\n",
       "      <td>January</td>\n",
       "    </tr>\n",
       "    <tr>\n",
       "      <th>1</th>\n",
       "      <td>2018-01-01 01:30:00</td>\n",
       "      <td>30.04</td>\n",
       "      <td>7.4</td>\n",
       "      <td>1</td>\n",
       "      <td>Monday</td>\n",
       "      <td>January</td>\n",
       "    </tr>\n",
       "    <tr>\n",
       "      <th>2</th>\n",
       "      <td>2018-01-01 02:30:00</td>\n",
       "      <td>30.67</td>\n",
       "      <td>6.8</td>\n",
       "      <td>2</td>\n",
       "      <td>Monday</td>\n",
       "      <td>January</td>\n",
       "    </tr>\n",
       "    <tr>\n",
       "      <th>3</th>\n",
       "      <td>2018-01-01 03:30:00</td>\n",
       "      <td>20.42</td>\n",
       "      <td>7.1</td>\n",
       "      <td>3</td>\n",
       "      <td>Monday</td>\n",
       "      <td>January</td>\n",
       "    </tr>\n",
       "    <tr>\n",
       "      <th>4</th>\n",
       "      <td>2018-01-01 04:30:00</td>\n",
       "      <td>16.96</td>\n",
       "      <td>5.3</td>\n",
       "      <td>4</td>\n",
       "      <td>Monday</td>\n",
       "      <td>January</td>\n",
       "    </tr>\n",
       "    <tr>\n",
       "      <th>...</th>\n",
       "      <td>...</td>\n",
       "      <td>...</td>\n",
       "      <td>...</td>\n",
       "      <td>...</td>\n",
       "      <td>...</td>\n",
       "      <td>...</td>\n",
       "    </tr>\n",
       "    <tr>\n",
       "      <th>8754</th>\n",
       "      <td>2018-12-31 19:30:00</td>\n",
       "      <td>137.38</td>\n",
       "      <td>5.5</td>\n",
       "      <td>19</td>\n",
       "      <td>Monday</td>\n",
       "      <td>December</td>\n",
       "    </tr>\n",
       "    <tr>\n",
       "      <th>8755</th>\n",
       "      <td>2018-12-31 20:30:00</td>\n",
       "      <td>136.00</td>\n",
       "      <td>3.6</td>\n",
       "      <td>20</td>\n",
       "      <td>Monday</td>\n",
       "      <td>December</td>\n",
       "    </tr>\n",
       "    <tr>\n",
       "      <th>8756</th>\n",
       "      <td>2018-12-31 21:30:00</td>\n",
       "      <td>132.33</td>\n",
       "      <td>2.9</td>\n",
       "      <td>21</td>\n",
       "      <td>Monday</td>\n",
       "      <td>December</td>\n",
       "    </tr>\n",
       "    <tr>\n",
       "      <th>8757</th>\n",
       "      <td>2018-12-31 22:30:00</td>\n",
       "      <td>108.00</td>\n",
       "      <td>1.5</td>\n",
       "      <td>22</td>\n",
       "      <td>Monday</td>\n",
       "      <td>December</td>\n",
       "    </tr>\n",
       "    <tr>\n",
       "      <th>8758</th>\n",
       "      <td>2018-12-31 23:30:00</td>\n",
       "      <td>83.42</td>\n",
       "      <td>0.6</td>\n",
       "      <td>23</td>\n",
       "      <td>Monday</td>\n",
       "      <td>December</td>\n",
       "    </tr>\n",
       "  </tbody>\n",
       "</table>\n",
       "<p>8759 rows × 6 columns</p>\n",
       "</div>"
      ],
      "text/plain": [
       "                   FECHA  NO2_level  temp  hour day_of_week     month\n",
       "0    2018-01-01 00:30:00      13.38   7.3     0      Monday   January\n",
       "1    2018-01-01 01:30:00      30.04   7.4     1      Monday   January\n",
       "2    2018-01-01 02:30:00      30.67   6.8     2      Monday   January\n",
       "3    2018-01-01 03:30:00      20.42   7.1     3      Monday   January\n",
       "4    2018-01-01 04:30:00      16.96   5.3     4      Monday   January\n",
       "...                  ...        ...   ...   ...         ...       ...\n",
       "8754 2018-12-31 19:30:00     137.38   5.5    19      Monday  December\n",
       "8755 2018-12-31 20:30:00     136.00   3.6    20      Monday  December\n",
       "8756 2018-12-31 21:30:00     132.33   2.9    21      Monday  December\n",
       "8757 2018-12-31 22:30:00     108.00   1.5    22      Monday  December\n",
       "8758 2018-12-31 23:30:00      83.42   0.6    23      Monday  December\n",
       "\n",
       "[8759 rows x 6 columns]"
      ]
     },
     "execution_count": 134,
     "metadata": {},
     "output_type": "execute_result"
    }
   ],
   "source": [
    "df"
   ]
  },
  {
   "cell_type": "markdown",
   "metadata": {},
   "source": [
    "#### Dividing our columns"
   ]
  },
  {
   "cell_type": "code",
   "execution_count": 135,
   "metadata": {},
   "outputs": [
    {
     "data": {
      "text/plain": [
       "Index(['FECHA', 'NO2_level', 'temp', 'hour', 'day_of_week', 'month'], dtype='object')"
      ]
     },
     "execution_count": 135,
     "metadata": {},
     "output_type": "execute_result"
    }
   ],
   "source": [
    "df.columns"
   ]
  },
  {
   "cell_type": "code",
   "execution_count": 136,
   "metadata": {},
   "outputs": [],
   "source": [
    "info_cols = 'FECHA'\n",
    "label_col = 'NO2_level'\n",
    "features_cols = [col for col in df.columns if col not in info_cols + label_col]\n",
    "\n",
    "categorical_cols = ['day_of_week', 'month']\n",
    "numerical_cols = [col for col in features_cols if col not in categorical_cols]\n"
   ]
  },
  {
   "cell_type": "code",
   "execution_count": 137,
   "metadata": {},
   "outputs": [
    {
     "data": {
      "text/plain": [
       "['temp', 'hour']"
      ]
     },
     "execution_count": 137,
     "metadata": {},
     "output_type": "execute_result"
    }
   ],
   "source": [
    "numerical_cols"
   ]
  },
  {
   "cell_type": "code",
   "execution_count": 138,
   "metadata": {},
   "outputs": [
    {
     "data": {
      "image/png": "[encoded data removed]",
      "text/plain": [
       "<Figure size 1200x600 with 1 Axes>"
      ]
     },
     "metadata": {},
     "output_type": "display_data"
    }
   ],
   "source": [
    "# Plotting daily average NO2 levels\n",
    "daily_avg = df.groupby(df.FECHA.dt.date)['NO2_level'].mean()\n",
    "\n",
    "plt.figure(figsize=(12, 6))\n",
    "sns.lineplot(x=daily_avg.index, y=daily_avg, label='Daily NO2 Levels')\n",
    "\n",
    "plt.title('Daily Patterns of NO2 Levels')\n",
    "plt.xlabel('Date')\n",
    "plt.ylabel('NO2 Level')\n",
    "plt.legend()\n",
    "plt.ylim(0)\n",
    "plt.show()"
   ]
  },
  {
   "cell_type": "markdown",
   "metadata": {},
   "source": [
    "As we saw during our Exploratory Data Analysis, there is a strong temporal evolution in the data reflecting the monthly variations. Therefore we cannot assume that the pollution dynamics are the same across the months (we should train on data from more years).\n",
    "\n",
    "It makes sense to do a temporal split. By doing so, we also make sure that we can't use data from the future to train our models which would be a clear example of information leakage.\n"
   ]
  },
  {
   "cell_type": "code",
   "execution_count": 139,
   "metadata": {},
   "outputs": [],
   "source": [
    "# Order our data by date\n",
    "df = df.sort_values(by = 'FECHA')"
   ]
  },
  {
   "cell_type": "code",
   "execution_count": 141,
   "metadata": {},
   "outputs": [
    {
     "data": {
      "text/plain": [
       "8759"
      ]
     },
     "execution_count": 141,
     "metadata": {},
     "output_type": "execute_result"
    }
   ],
   "source": [
    "len(df)"
   ]
  },
  {
   "cell_type": "code",
   "execution_count": 213,
   "metadata": {},
   "outputs": [
    {
     "name": "stdout",
     "output_type": "stream",
     "text": [
      "Train since: 2018-01-01 00:30:00\n",
      "Train until: 2018-09-13 11:30:00\n",
      "Validation until: 2018-11-25 11:30:00\n",
      "Test until: 2018-12-31 23:30:00\n"
     ]
    }
   ],
   "source": [
    "\n",
    "total_hours = len(df)\n",
    "\n",
    "# calculate cutoff indexes for the train, validation and test sets\n",
    "train_cutoff = int(0.7 * total_hours)\n",
    "val_cutoff = int(0.9 * total_hours)\n",
    "\n",
    "# Divide el DataFrame en conjuntos de train, validation y test\n",
    "train_df = df.iloc[:train_cutoff]\n",
    "val_df = df.iloc[train_cutoff:val_cutoff]\n",
    "test_df = df.iloc[val_cutoff:]\n",
    "\n",
    "print(\"Train since:\", train_df['FECHA'].min())\n",
    "print(\"Train until:\", train_df['FECHA'].max())\n",
    "print(\"Validation until:\", val_df['FECHA'].max())\n",
    "print(\"Test until:\", test_df['FECHA'].max())\n"
   ]
  },
  {
   "cell_type": "markdown",
   "metadata": {},
   "source": [
    "\n",
    "### Baseline\n",
    "\n",
    "In order to understand if a ML approach yields any value, we need to compare it against some baseline that does not require training. Here we will use the the average NO2_level of those days in January as the baseline.\n",
    "\n"
   ]
  },
  {
   "cell_type": "code",
   "execution_count": 143,
   "metadata": {},
   "outputs": [
    {
     "data": {
      "text/html": [
       "<div>\n",
       "<style scoped>\n",
       "    .dataframe tbody tr th:only-of-type {\n",
       "        vertical-align: middle;\n",
       "    }\n",
       "\n",
       "    .dataframe tbody tr th {\n",
       "        vertical-align: top;\n",
       "    }\n",
       "\n",
       "    .dataframe thead th {\n",
       "        text-align: right;\n",
       "    }\n",
       "</style>\n",
       "<table border=\"1\" class=\"dataframe\">\n",
       "  <thead>\n",
       "    <tr style=\"text-align: right;\">\n",
       "      <th></th>\n",
       "      <th>day_of_week</th>\n",
       "      <th>NO2_level</th>\n",
       "    </tr>\n",
       "  </thead>\n",
       "  <tbody>\n",
       "    <tr>\n",
       "      <th>0</th>\n",
       "      <td>Friday</td>\n",
       "      <td>36.902766</td>\n",
       "    </tr>\n",
       "    <tr>\n",
       "      <th>1</th>\n",
       "      <td>Monday</td>\n",
       "      <td>33.977601</td>\n",
       "    </tr>\n",
       "    <tr>\n",
       "      <th>2</th>\n",
       "      <td>Saturday</td>\n",
       "      <td>26.902488</td>\n",
       "    </tr>\n",
       "    <tr>\n",
       "      <th>3</th>\n",
       "      <td>Sunday</td>\n",
       "      <td>23.728621</td>\n",
       "    </tr>\n",
       "    <tr>\n",
       "      <th>4</th>\n",
       "      <td>Thursday</td>\n",
       "      <td>37.378322</td>\n",
       "    </tr>\n",
       "    <tr>\n",
       "      <th>5</th>\n",
       "      <td>Tuesday</td>\n",
       "      <td>36.916768</td>\n",
       "    </tr>\n",
       "    <tr>\n",
       "      <th>6</th>\n",
       "      <td>Wednesday</td>\n",
       "      <td>37.168356</td>\n",
       "    </tr>\n",
       "  </tbody>\n",
       "</table>\n",
       "</div>"
      ],
      "text/plain": [
       "  day_of_week  NO2_level\n",
       "0      Friday  36.902766\n",
       "1      Monday  33.977601\n",
       "2    Saturday  26.902488\n",
       "3      Sunday  23.728621\n",
       "4    Thursday  37.378322\n",
       "5     Tuesday  36.916768\n",
       "6   Wednesday  37.168356"
      ]
     },
     "execution_count": 143,
     "metadata": {},
     "output_type": "execute_result"
    }
   ],
   "source": [
    "# Calculate the mean of NO2 for each day of the week in the train set\n",
    "baseline_model = train_df.groupby('day_of_week')['NO2_level'].mean().reset_index()\n",
    "baseline_model"
   ]
  },
  {
   "cell_type": "code",
   "execution_count": 156,
   "metadata": {},
   "outputs": [],
   "source": [
    "# Function to predict any day based on the day of the week mean\n",
    "def predict_day(day_of_week):\n",
    "    return baseline_model[baseline_model['day_of_week'] == day_of_week]['NO2_level'].values[0]\n"
   ]
  },
  {
   "cell_type": "code",
   "execution_count": 158,
   "metadata": {},
   "outputs": [
    {
     "name": "stdout",
     "output_type": "stream",
     "text": [
      "Prediction for Thursday 37.37832191780822 (day of the week mean)\n"
     ]
    }
   ],
   "source": [
    "prediction = predict_day('Thursday')\n",
    "print(f\"Prediction for Thursday {prediction} (day of the week mean)\")"
   ]
  },
  {
   "cell_type": "code",
   "execution_count": 182,
   "metadata": {},
   "outputs": [
    {
     "name": "stdout",
     "output_type": "stream",
     "text": [
      "MAE: 17.510211997450448\n",
      "MSE: 613.7832418109605\n",
      "RMSE: 24.774649176344766\n"
     ]
    }
   ],
   "source": [
    "val_preds = val_df['day_of_week'].apply(predict_day)\n",
    "\n",
    "# Calculate metrics\n",
    "baseline_mae = mean_absolute_error(val_df[label_col], val_preds)\n",
    "baseline_mse = mean_squared_error(val_df[label_col], val_preds)\n",
    "baseline_rmse = np.sqrt(mse)\n",
    "\n",
    "print(f'MAE: {baseline_mae}')\n",
    "print(f'MSE: {baseline_mse}')\n",
    "print(f'RMSE: {baseline_rmse}')"
   ]
  },
  {
   "cell_type": "markdown",
   "metadata": {},
   "source": [
    "### XGBoost Models"
   ]
  },
  {
   "cell_type": "code",
   "execution_count": 164,
   "metadata": {},
   "outputs": [],
   "source": [
    "train_cols = ['temp', 'hour', 'day_of_week']"
   ]
  },
  {
   "cell_type": "code",
   "execution_count": 165,
   "metadata": {},
   "outputs": [
    {
     "data": {
      "text/html": [
       "<div>\n",
       "<style scoped>\n",
       "    .dataframe tbody tr th:only-of-type {\n",
       "        vertical-align: middle;\n",
       "    }\n",
       "\n",
       "    .dataframe tbody tr th {\n",
       "        vertical-align: top;\n",
       "    }\n",
       "\n",
       "    .dataframe thead th {\n",
       "        text-align: right;\n",
       "    }\n",
       "</style>\n",
       "<table border=\"1\" class=\"dataframe\">\n",
       "  <thead>\n",
       "    <tr style=\"text-align: right;\">\n",
       "      <th></th>\n",
       "      <th>temp</th>\n",
       "      <th>hour</th>\n",
       "      <th>day_of_week</th>\n",
       "    </tr>\n",
       "  </thead>\n",
       "  <tbody>\n",
       "    <tr>\n",
       "      <th>0</th>\n",
       "      <td>7.3</td>\n",
       "      <td>0</td>\n",
       "      <td>Monday</td>\n",
       "    </tr>\n",
       "    <tr>\n",
       "      <th>1</th>\n",
       "      <td>7.4</td>\n",
       "      <td>1</td>\n",
       "      <td>Monday</td>\n",
       "    </tr>\n",
       "    <tr>\n",
       "      <th>2</th>\n",
       "      <td>6.8</td>\n",
       "      <td>2</td>\n",
       "      <td>Monday</td>\n",
       "    </tr>\n",
       "    <tr>\n",
       "      <th>3</th>\n",
       "      <td>7.1</td>\n",
       "      <td>3</td>\n",
       "      <td>Monday</td>\n",
       "    </tr>\n",
       "    <tr>\n",
       "      <th>4</th>\n",
       "      <td>5.3</td>\n",
       "      <td>4</td>\n",
       "      <td>Monday</td>\n",
       "    </tr>\n",
       "    <tr>\n",
       "      <th>...</th>\n",
       "      <td>...</td>\n",
       "      <td>...</td>\n",
       "      <td>...</td>\n",
       "    </tr>\n",
       "    <tr>\n",
       "      <th>6126</th>\n",
       "      <td>16.7</td>\n",
       "      <td>7</td>\n",
       "      <td>Thursday</td>\n",
       "    </tr>\n",
       "    <tr>\n",
       "      <th>6127</th>\n",
       "      <td>19.4</td>\n",
       "      <td>8</td>\n",
       "      <td>Thursday</td>\n",
       "    </tr>\n",
       "    <tr>\n",
       "      <th>6128</th>\n",
       "      <td>22.6</td>\n",
       "      <td>9</td>\n",
       "      <td>Thursday</td>\n",
       "    </tr>\n",
       "    <tr>\n",
       "      <th>6129</th>\n",
       "      <td>25.9</td>\n",
       "      <td>10</td>\n",
       "      <td>Thursday</td>\n",
       "    </tr>\n",
       "    <tr>\n",
       "      <th>6130</th>\n",
       "      <td>28.5</td>\n",
       "      <td>11</td>\n",
       "      <td>Thursday</td>\n",
       "    </tr>\n",
       "  </tbody>\n",
       "</table>\n",
       "<p>6131 rows × 3 columns</p>\n",
       "</div>"
      ],
      "text/plain": [
       "      temp  hour day_of_week\n",
       "0      7.3     0      Monday\n",
       "1      7.4     1      Monday\n",
       "2      6.8     2      Monday\n",
       "3      7.1     3      Monday\n",
       "4      5.3     4      Monday\n",
       "...    ...   ...         ...\n",
       "6126  16.7     7    Thursday\n",
       "6127  19.4     8    Thursday\n",
       "6128  22.6     9    Thursday\n",
       "6129  25.9    10    Thursday\n",
       "6130  28.5    11    Thursday\n",
       "\n",
       "[6131 rows x 3 columns]"
      ]
     },
     "execution_count": 165,
     "metadata": {},
     "output_type": "execute_result"
    }
   ],
   "source": [
    "train_df[train_cols]"
   ]
  },
  {
   "cell_type": "markdown",
   "metadata": {},
   "source": [
    "Let's encode our variable day_of_week. Let's use one-hot encoding"
   ]
  },
  {
   "cell_type": "code",
   "execution_count": 168,
   "metadata": {},
   "outputs": [],
   "source": [
    "df_encoded = pd.get_dummies(df, columns=['day_of_week'], drop_first=True)"
   ]
  },
  {
   "cell_type": "markdown",
   "metadata": {},
   "source": [
    "We make the same split again"
   ]
  },
  {
   "cell_type": "code",
   "execution_count": 173,
   "metadata": {},
   "outputs": [],
   "source": [
    "train_dfe = df_encoded.iloc[:train_cutoff]\n",
    "val_dfe = df_encoded.iloc[train_cutoff:val_cutoff]\n",
    "test_dfe = df_encoded.iloc[val_cutoff:]"
   ]
  },
  {
   "cell_type": "markdown",
   "metadata": {},
   "source": [
    "And we rename the train_cols"
   ]
  },
  {
   "cell_type": "code",
   "execution_count": 170,
   "metadata": {},
   "outputs": [
    {
     "data": {
      "text/plain": [
       "Index(['FECHA', 'NO2_level', 'temp', 'hour', 'month', 'day_of_week_Monday',\n",
       "       'day_of_week_Saturday', 'day_of_week_Sunday', 'day_of_week_Thursday',\n",
       "       'day_of_week_Tuesday', 'day_of_week_Wednesday'],\n",
       "      dtype='object')"
      ]
     },
     "execution_count": 170,
     "metadata": {},
     "output_type": "execute_result"
    }
   ],
   "source": [
    "df_encoded.columns"
   ]
  },
  {
   "cell_type": "code",
   "execution_count": 177,
   "metadata": {},
   "outputs": [],
   "source": [
    "train_cols = ['temp', 'hour', 'day_of_week_Monday',\n",
    "       'day_of_week_Saturday', 'day_of_week_Sunday', 'day_of_week_Thursday',\n",
    "       'day_of_week_Tuesday', 'day_of_week_Wednesday']"
   ]
  },
  {
   "cell_type": "code",
   "execution_count": 178,
   "metadata": {},
   "outputs": [
    {
     "name": "stdout",
     "output_type": "stream",
     "text": [
      "XGBoost MAE: 16.36435067659099\n",
      "XGBoost MSE: 568.0628578676611\n",
      "XGBoost RMSE: 23.83406926791271\n"
     ]
    }
   ],
   "source": [
    "# Create an XGBoost regression model\n",
    "xgb_model = xgb.XGBRegressor(objective='reg:squarederror', random_state=42)\n",
    "\n",
    "# Train the model\n",
    "xgb_model.fit(train_dfe[train_cols], train_dfe[label_col])\n",
    "\n",
    "# Make predictions on the validation set\n",
    "xgb_preds = xgb_model.predict(val_dfe[train_cols])\n",
    "\n",
    "# Evaluate the model\n",
    "xgb_mae = mean_absolute_error(val_dfe[label_col], xgb_preds)\n",
    "xgb_mse = mean_squared_error(val_dfe[label_col], xgb_preds)\n",
    "xgb_rmse = np.sqrt(xgb_mse)\n",
    "\n",
    "print(f'XGBoost MAE: {xgb_mae}')\n",
    "print(f'XGBoost MSE: {xgb_mse}')\n",
    "print(f'XGBoost RMSE: {xgb_rmse}')"
   ]
  },
  {
   "cell_type": "code",
   "execution_count": null,
   "metadata": {},
   "outputs": [],
   "source": []
  },
  {
   "cell_type": "markdown",
   "metadata": {},
   "source": [
    "### LightGBM"
   ]
  },
  {
   "cell_type": "code",
   "execution_count": 179,
   "metadata": {},
   "outputs": [],
   "source": [
    "train_cols = ['temp', 'hour', 'day_of_week']"
   ]
  },
  {
   "cell_type": "code",
   "execution_count": 180,
   "metadata": {},
   "outputs": [
    {
     "name": "stdout",
     "output_type": "stream",
     "text": [
      "[LightGBM] [Info] Auto-choosing col-wise multi-threading, the overhead of testing was 0.000558 seconds.\n",
      "You can set `force_col_wise=true` to remove the overhead.\n",
      "[LightGBM] [Info] Total Bins 287\n",
      "[LightGBM] [Info] Number of data points in the train set: 6131, number of used features: 3\n",
      "[LightGBM] [Info] Start training from score 33.323871\n",
      "LightGBM MAE: 15.671473842097589\n",
      "LightGBM MSE: 532.1062653255702\n",
      "LightGBM RMSE: 23.06742866739963\n"
     ]
    }
   ],
   "source": [
    "# Create a LightGBM regression model\n",
    "lgb_model = lgb.LGBMRegressor(random_state=42)\n",
    "\n",
    "# Train the model\n",
    "lgb_model.fit(train_df[train_cols], train_df[label_col])\n",
    "\n",
    "# Make predictions on the validation set\n",
    "lgb_preds = lgb_model.predict(val_df[train_cols])\n",
    "\n",
    "# Evaluate the model\n",
    "lgb_mae = mean_absolute_error(val_df[label_col], lgb_preds)\n",
    "lgb_mse = mean_squared_error(val_df[label_col], lgb_preds)\n",
    "lgb_rmse = np.sqrt(lgb_mse)\n",
    "\n",
    "print(f'LightGBM MAE: {lgb_mae}')\n",
    "print(f'LightGBM MSE: {lgb_mse}')\n",
    "print(f'LightGBM RMSE: {lgb_rmse}')\n"
   ]
  },
  {
   "cell_type": "markdown",
   "metadata": {},
   "source": [
    "#### Models comparison"
   ]
  },
  {
   "cell_type": "code",
   "execution_count": 183,
   "metadata": {},
   "outputs": [
    {
     "name": "stdout",
     "output_type": "stream",
     "text": [
      "Baseline Model:\n",
      "MAE: 17.510211997450448\n",
      "MSE: 613.7832418109605\n",
      "RMSE: 24.774649176344766\n",
      "\n",
      "XGBoost Model:\n",
      "MAE: 16.36435067659099\n",
      "MSE: 568.0628578676611\n",
      "RMSE: 23.83406926791271\n",
      "\n",
      "LightGBM Model:\n",
      "MAE: 15.671473842097589\n",
      "MSE: 532.1062653255702\n",
      "RMSE: 23.06742866739963\n"
     ]
    }
   ],
   "source": [
    "print(\"Baseline Model:\")\n",
    "print(f'MAE: {baseline_mae}')\n",
    "print(f'MSE: {baseline_mse}')\n",
    "print(f'RMSE: {baseline_rmse}')\n",
    "print(\"\\nXGBoost Model:\")\n",
    "print(f'MAE: {xgb_mae}')\n",
    "print(f'MSE: {xgb_mse}')\n",
    "print(f'RMSE: {xgb_rmse}')\n",
    "print(\"\\nLightGBM Model:\")\n",
    "print(f'MAE: {lgb_mae}')\n",
    "print(f'MSE: {lgb_mse}')\n",
    "print(f'RMSE: {lgb_rmse}')"
   ]
  },
  {
   "cell_type": "markdown",
   "metadata": {},
   "source": [
    "### Insights\n",
    "- Both XGBoost and LightGBM outperform the baseline model across all metrics.\n",
    "\n",
    "- LightGBM has lower MAE, MSE, and RMSE compared to XGBoost, indicating better predictive performance.\n",
    "\n",
    "- The Machine Learning models are providing more accurate predictions than the baseline model."
   ]
  },
  {
   "cell_type": "code",
   "execution_count": null,
   "metadata": {},
   "outputs": [],
   "source": []
  },
  {
   "cell_type": "markdown",
   "metadata": {},
   "source": [
    "### Arima Models"
   ]
  },
  {
   "cell_type": "code",
   "execution_count": 197,
   "metadata": {},
   "outputs": [],
   "source": [
    "arima_train_cols = ['temp', 'hour', 'NO2_level']"
   ]
  },
  {
   "cell_type": "code",
   "execution_count": 198,
   "metadata": {},
   "outputs": [
    {
     "data": {
      "text/plain": [
       "['temp', 'hour', 'NO2_level']"
      ]
     },
     "execution_count": 198,
     "metadata": {},
     "output_type": "execute_result"
    }
   ],
   "source": [
    "arima_train_cols"
   ]
  },
  {
   "cell_type": "code",
   "execution_count": 206,
   "metadata": {},
   "outputs": [],
   "source": [
    "train_size = int(len(df) * 0.7)\n",
    "val_size = int(len(df) * 0.2)\n",
    "test_size = len(df) - train_size - val_size\n",
    "\n",
    "train, val, test = df.iloc[:train_size], df.iloc[train_size:train_size + val_size], df.iloc[train_size + val_size:]\n"
   ]
  },
  {
   "cell_type": "code",
   "execution_count": 207,
   "metadata": {},
   "outputs": [
    {
     "data": {
      "image/png": "[encoded data removed]",
      "text/plain": [
       "<Figure size 640x480 with 1 Axes>"
      ]
     },
     "metadata": {},
     "output_type": "display_data"
    }
   ],
   "source": [
    "# Plot NO2 levels over time\n",
    "plt.plot(train['NO2_level'], label='Training')\n",
    "plt.plot(val['NO2_level'], label='Validation')\n",
    "plt.plot(test['NO2_level'], label='Test')\n",
    "plt.xlabel('Time')\n",
    "plt.ylabel('NO2 Level')\n",
    "plt.title('NO2 Level Over Time')\n",
    "plt.legend()\n",
    "plt.show()"
   ]
  },
  {
   "cell_type": "markdown",
   "metadata": {},
   "source": [
    "Next steps: \n",
    "- Create the ARIMA model\n",
    "- Hyperparameters optimization, feature engineering, etc\n",
    "- Training on more data\n",
    "- Make scripts and call the APIs to keep the model updated, etc"
   ]
  },
  {
   "cell_type": "markdown",
   "metadata": {},
   "source": []
  }
 ],
 "metadata": {
  "kernelspec": {
   "display_name": "Python 3",
   "language": "python",
   "name": "python3"
  },
  "language_info": {
   "codemirror_mode": {
    "name": "ipython",
    "version": 3
   },
   "file_extension": ".py",
   "mimetype": "text/x-python",
   "name": "python",
   "nbconvert_exporter": "python",
   "pygments_lexer": "ipython3",
   "version": "3.11.0"
  }
 },
 "nbformat": 4,
 "nbformat_minor": 2
}
