{
 "cells": [
  {
   "cell_type": "markdown",
   "metadata": {},
   "source": [
    "## Data storage exploration - Understanding how the data is stored \n",
    "\n",
    "**GOAL**: Create a csv combining data from NO2 levels from the year 2018. Combining the pollution data with data from the measurement stations & hourly temperatures\n",
    "\n",
    "## STRUCTURE OF THIS NOTEBOOK\n",
    "\n",
    "- Explore January data from the year 2018\n"
   ]
  },
  {
   "cell_type": "code",
   "execution_count": 18,
   "metadata": {},
   "outputs": [],
   "source": [
    "import pandas as pd\n",
    "import matplotlib.pyplot as plt\n",
    "import seaborn as sns\n",
    "import numpy as np\n",
    "from typing import Tuple\n",
    "import joblib\n",
    "import os\n",
    "\n",
    "from pathlib import Path\n"
   ]
  },
  {
   "cell_type": "code",
   "execution_count": 15,
   "metadata": {},
   "outputs": [],
   "source": [
    "path = '/home/carleondel/data-madrid_pollution_project/'\n",
    "df_ene = pd.read_csv(path + 'ene_mo18.csv', sep = ';')"
   ]
  },
  {
   "cell_type": "markdown",
   "metadata": {},
   "source": [
    "Let's start exploring our data from January"
   ]
  },
  {
   "cell_type": "code",
   "execution_count": 16,
   "metadata": {},
   "outputs": [
    {
     "data": {
      "text/html": [
       "<div>\n",
       "<style scoped>\n",
       "    .dataframe tbody tr th:only-of-type {\n",
       "        vertical-align: middle;\n",
       "    }\n",
       "\n",
       "    .dataframe tbody tr th {\n",
       "        vertical-align: top;\n",
       "    }\n",
       "\n",
       "    .dataframe thead th {\n",
       "        text-align: right;\n",
       "    }\n",
       "</style>\n",
       "<table border=\"1\" class=\"dataframe\">\n",
       "  <thead>\n",
       "    <tr style=\"text-align: right;\">\n",
       "      <th></th>\n",
       "      <th>PROVINCIA</th>\n",
       "      <th>MUNICIPIO</th>\n",
       "      <th>ESTACION</th>\n",
       "      <th>MAGNITUD</th>\n",
       "      <th>PUNTO_MUESTREO</th>\n",
       "      <th>ANO</th>\n",
       "      <th>MES</th>\n",
       "      <th>DIA</th>\n",
       "      <th>H01</th>\n",
       "      <th>V01</th>\n",
       "      <th>...</th>\n",
       "      <th>H20</th>\n",
       "      <th>V20</th>\n",
       "      <th>H21</th>\n",
       "      <th>V21</th>\n",
       "      <th>H22</th>\n",
       "      <th>V22</th>\n",
       "      <th>H23</th>\n",
       "      <th>V23</th>\n",
       "      <th>H24</th>\n",
       "      <th>V24</th>\n",
       "    </tr>\n",
       "  </thead>\n",
       "  <tbody>\n",
       "    <tr>\n",
       "      <th>0</th>\n",
       "      <td>28</td>\n",
       "      <td>79</td>\n",
       "      <td>4</td>\n",
       "      <td>1</td>\n",
       "      <td>28079004_1_38</td>\n",
       "      <td>2018</td>\n",
       "      <td>1</td>\n",
       "      <td>1</td>\n",
       "      <td>1.0</td>\n",
       "      <td>V</td>\n",
       "      <td>...</td>\n",
       "      <td>2.0</td>\n",
       "      <td>V</td>\n",
       "      <td>1.0</td>\n",
       "      <td>V</td>\n",
       "      <td>1.0</td>\n",
       "      <td>V</td>\n",
       "      <td>1.0</td>\n",
       "      <td>V</td>\n",
       "      <td>1.0</td>\n",
       "      <td>V</td>\n",
       "    </tr>\n",
       "    <tr>\n",
       "      <th>1</th>\n",
       "      <td>28</td>\n",
       "      <td>79</td>\n",
       "      <td>4</td>\n",
       "      <td>1</td>\n",
       "      <td>28079004_1_38</td>\n",
       "      <td>2018</td>\n",
       "      <td>1</td>\n",
       "      <td>2</td>\n",
       "      <td>1.0</td>\n",
       "      <td>V</td>\n",
       "      <td>...</td>\n",
       "      <td>1.0</td>\n",
       "      <td>V</td>\n",
       "      <td>1.0</td>\n",
       "      <td>V</td>\n",
       "      <td>1.0</td>\n",
       "      <td>V</td>\n",
       "      <td>2.0</td>\n",
       "      <td>V</td>\n",
       "      <td>2.0</td>\n",
       "      <td>V</td>\n",
       "    </tr>\n",
       "    <tr>\n",
       "      <th>2</th>\n",
       "      <td>28</td>\n",
       "      <td>79</td>\n",
       "      <td>4</td>\n",
       "      <td>1</td>\n",
       "      <td>28079004_1_38</td>\n",
       "      <td>2018</td>\n",
       "      <td>1</td>\n",
       "      <td>3</td>\n",
       "      <td>1.0</td>\n",
       "      <td>V</td>\n",
       "      <td>...</td>\n",
       "      <td>2.0</td>\n",
       "      <td>V</td>\n",
       "      <td>2.0</td>\n",
       "      <td>V</td>\n",
       "      <td>2.0</td>\n",
       "      <td>V</td>\n",
       "      <td>3.0</td>\n",
       "      <td>V</td>\n",
       "      <td>2.0</td>\n",
       "      <td>V</td>\n",
       "    </tr>\n",
       "    <tr>\n",
       "      <th>3</th>\n",
       "      <td>28</td>\n",
       "      <td>79</td>\n",
       "      <td>4</td>\n",
       "      <td>1</td>\n",
       "      <td>28079004_1_38</td>\n",
       "      <td>2018</td>\n",
       "      <td>1</td>\n",
       "      <td>4</td>\n",
       "      <td>2.0</td>\n",
       "      <td>V</td>\n",
       "      <td>...</td>\n",
       "      <td>2.0</td>\n",
       "      <td>V</td>\n",
       "      <td>1.0</td>\n",
       "      <td>V</td>\n",
       "      <td>1.0</td>\n",
       "      <td>V</td>\n",
       "      <td>1.0</td>\n",
       "      <td>V</td>\n",
       "      <td>1.0</td>\n",
       "      <td>V</td>\n",
       "    </tr>\n",
       "    <tr>\n",
       "      <th>4</th>\n",
       "      <td>28</td>\n",
       "      <td>79</td>\n",
       "      <td>4</td>\n",
       "      <td>1</td>\n",
       "      <td>28079004_1_38</td>\n",
       "      <td>2018</td>\n",
       "      <td>1</td>\n",
       "      <td>5</td>\n",
       "      <td>1.0</td>\n",
       "      <td>V</td>\n",
       "      <td>...</td>\n",
       "      <td>2.0</td>\n",
       "      <td>V</td>\n",
       "      <td>2.0</td>\n",
       "      <td>V</td>\n",
       "      <td>2.0</td>\n",
       "      <td>V</td>\n",
       "      <td>1.0</td>\n",
       "      <td>V</td>\n",
       "      <td>2.0</td>\n",
       "      <td>V</td>\n",
       "    </tr>\n",
       "  </tbody>\n",
       "</table>\n",
       "<p>5 rows × 56 columns</p>\n",
       "</div>"
      ],
      "text/plain": [
       "   PROVINCIA  MUNICIPIO  ESTACION  MAGNITUD PUNTO_MUESTREO   ANO  MES  DIA  \\\n",
       "0         28         79         4         1  28079004_1_38  2018    1    1   \n",
       "1         28         79         4         1  28079004_1_38  2018    1    2   \n",
       "2         28         79         4         1  28079004_1_38  2018    1    3   \n",
       "3         28         79         4         1  28079004_1_38  2018    1    4   \n",
       "4         28         79         4         1  28079004_1_38  2018    1    5   \n",
       "\n",
       "   H01 V01  ...  H20 V20  H21 V21  H22 V22  H23 V23  H24 V24  \n",
       "0  1.0   V  ...  2.0   V  1.0   V  1.0   V  1.0   V  1.0   V  \n",
       "1  1.0   V  ...  1.0   V  1.0   V  1.0   V  2.0   V  2.0   V  \n",
       "2  1.0   V  ...  2.0   V  2.0   V  2.0   V  3.0   V  2.0   V  \n",
       "3  2.0   V  ...  2.0   V  1.0   V  1.0   V  1.0   V  1.0   V  \n",
       "4  1.0   V  ...  2.0   V  2.0   V  2.0   V  1.0   V  2.0   V  \n",
       "\n",
       "[5 rows x 56 columns]"
      ]
     },
     "execution_count": 16,
     "metadata": {},
     "output_type": "execute_result"
    }
   ],
   "source": [
    "df_ene.head()"
   ]
  },
  {
   "cell_type": "markdown",
   "metadata": {},
   "source": [
    "### **Datos horarios y en tiempo real:**\n",
    "\n",
    "- Cada registro está estructurado de la siguiente forma: PROVINCIA MUNICIPIO ESTACION MAGNITUD PUNTO_MUESTREO ANO MES DIA H01 V01 H02 V02\n",
    "28 79 4 1 28079004_1_38 2019 1 1 23 V 17 V\n",
    "\n",
    "- El campo punto de muestreo incluye el código de la estación completo\n",
    "(provincia, municipio y estación) más la magnitud y la técnica de\n",
    "muestreo.\n",
    "\n",
    "- H01 corresponde al dato de la 1 de la mañana de ese día, V01 es el\n",
    "código de validación, H02 al de las 2 de la mañana, V02 y así\n",
    "sucesivamente.\n",
    "- UNICAMENTE SON VÁLIDOS LOS DATOS QUE LLEVAN EL CÓDIGO DE VALIDACIÓN\n",
    "“V\".\n"
   ]
  },
  {
   "cell_type": "code",
   "execution_count": 19,
   "metadata": {},
   "outputs": [
    {
     "data": {
      "text/plain": [
       "Index(['PROVINCIA', 'MUNICIPIO', 'ESTACION', 'MAGNITUD', 'PUNTO_MUESTREO',\n",
       "       'ANO', 'MES', 'DIA', 'H01', 'V01', 'H02', 'V02', 'H03', 'V03', 'H04',\n",
       "       'V04', 'H05', 'V05', 'H06', 'V06', 'H07', 'V07', 'H08', 'V08', 'H09',\n",
       "       'V09', 'H10', 'V10', 'H11', 'V11', 'H12', 'V12', 'H13', 'V13', 'H14',\n",
       "       'V14', 'H15', 'V15', 'H16', 'V16', 'H17', 'V17', 'H18', 'V18', 'H19',\n",
       "       'V19', 'H20', 'V20', 'H21', 'V21', 'H22', 'V22', 'H23', 'V23', 'H24',\n",
       "       'V24'],\n",
       "      dtype='object')"
      ]
     },
     "execution_count": 19,
     "metadata": {},
     "output_type": "execute_result"
    }
   ],
   "source": [
    "df_ene.columns"
   ]
  },
  {
   "cell_type": "markdown",
   "metadata": {},
   "source": [
    "The first thing we need to do is to filter our data to only keep the NO2 levels, which are stored as MAGNITUD = 08"
   ]
  },
  {
   "cell_type": "code",
   "execution_count": 24,
   "metadata": {},
   "outputs": [
    {
     "data": {
      "text/plain": [
       "14"
      ]
     },
     "execution_count": 24,
     "metadata": {},
     "output_type": "execute_result"
    }
   ],
   "source": [
    "df_ene.MAGNITUD.nunique()"
   ]
  },
  {
   "cell_type": "code",
   "execution_count": 25,
   "metadata": {},
   "outputs": [
    {
     "data": {
      "text/plain": [
       "array([ 1,  6,  7,  8, 12,  9, 10, 14, 20, 30, 35, 42, 43, 44])"
      ]
     },
     "execution_count": 25,
     "metadata": {},
     "output_type": "execute_result"
    }
   ],
   "source": [
    "df_ene.MAGNITUD.unique()"
   ]
  },
  {
   "cell_type": "code",
   "execution_count": 38,
   "metadata": {},
   "outputs": [],
   "source": [
    "# We filter by NO2 levels and drop the column\n",
    "df_ene_NO2 = df_ene[df_ene['MAGNITUD'] == 8]\n",
    "df_ene_NO2 = df_ene_NO2.drop('MAGNITUD', axis = 1)"
   ]
  },
  {
   "cell_type": "code",
   "execution_count": 39,
   "metadata": {},
   "outputs": [
    {
     "data": {
      "text/html": [
       "<div>\n",
       "<style scoped>\n",
       "    .dataframe tbody tr th:only-of-type {\n",
       "        vertical-align: middle;\n",
       "    }\n",
       "\n",
       "    .dataframe tbody tr th {\n",
       "        vertical-align: top;\n",
       "    }\n",
       "\n",
       "    .dataframe thead th {\n",
       "        text-align: right;\n",
       "    }\n",
       "</style>\n",
       "<table border=\"1\" class=\"dataframe\">\n",
       "  <thead>\n",
       "    <tr style=\"text-align: right;\">\n",
       "      <th></th>\n",
       "      <th>PROVINCIA</th>\n",
       "      <th>MUNICIPIO</th>\n",
       "      <th>ESTACION</th>\n",
       "      <th>PUNTO_MUESTREO</th>\n",
       "      <th>ANO</th>\n",
       "      <th>MES</th>\n",
       "      <th>DIA</th>\n",
       "      <th>H01</th>\n",
       "      <th>V01</th>\n",
       "      <th>H02</th>\n",
       "      <th>...</th>\n",
       "      <th>H20</th>\n",
       "      <th>V20</th>\n",
       "      <th>H21</th>\n",
       "      <th>V21</th>\n",
       "      <th>H22</th>\n",
       "      <th>V22</th>\n",
       "      <th>H23</th>\n",
       "      <th>V23</th>\n",
       "      <th>H24</th>\n",
       "      <th>V24</th>\n",
       "    </tr>\n",
       "  </thead>\n",
       "  <tbody>\n",
       "    <tr>\n",
       "      <th>93</th>\n",
       "      <td>28</td>\n",
       "      <td>79</td>\n",
       "      <td>4</td>\n",
       "      <td>28079004_8_8</td>\n",
       "      <td>2018</td>\n",
       "      <td>1</td>\n",
       "      <td>1</td>\n",
       "      <td>15.0</td>\n",
       "      <td>V</td>\n",
       "      <td>35.0</td>\n",
       "      <td>...</td>\n",
       "      <td>39.0</td>\n",
       "      <td>V</td>\n",
       "      <td>35.0</td>\n",
       "      <td>V</td>\n",
       "      <td>27.0</td>\n",
       "      <td>V</td>\n",
       "      <td>23.0</td>\n",
       "      <td>V</td>\n",
       "      <td>11.0</td>\n",
       "      <td>V</td>\n",
       "    </tr>\n",
       "    <tr>\n",
       "      <th>94</th>\n",
       "      <td>28</td>\n",
       "      <td>79</td>\n",
       "      <td>4</td>\n",
       "      <td>28079004_8_8</td>\n",
       "      <td>2018</td>\n",
       "      <td>1</td>\n",
       "      <td>2</td>\n",
       "      <td>13.0</td>\n",
       "      <td>V</td>\n",
       "      <td>17.0</td>\n",
       "      <td>...</td>\n",
       "      <td>38.0</td>\n",
       "      <td>V</td>\n",
       "      <td>41.0</td>\n",
       "      <td>V</td>\n",
       "      <td>47.0</td>\n",
       "      <td>V</td>\n",
       "      <td>55.0</td>\n",
       "      <td>V</td>\n",
       "      <td>47.0</td>\n",
       "      <td>V</td>\n",
       "    </tr>\n",
       "    <tr>\n",
       "      <th>95</th>\n",
       "      <td>28</td>\n",
       "      <td>79</td>\n",
       "      <td>4</td>\n",
       "      <td>28079004_8_8</td>\n",
       "      <td>2018</td>\n",
       "      <td>1</td>\n",
       "      <td>3</td>\n",
       "      <td>35.0</td>\n",
       "      <td>V</td>\n",
       "      <td>17.0</td>\n",
       "      <td>...</td>\n",
       "      <td>53.0</td>\n",
       "      <td>V</td>\n",
       "      <td>47.0</td>\n",
       "      <td>V</td>\n",
       "      <td>51.0</td>\n",
       "      <td>V</td>\n",
       "      <td>56.0</td>\n",
       "      <td>V</td>\n",
       "      <td>41.0</td>\n",
       "      <td>V</td>\n",
       "    </tr>\n",
       "    <tr>\n",
       "      <th>96</th>\n",
       "      <td>28</td>\n",
       "      <td>79</td>\n",
       "      <td>4</td>\n",
       "      <td>28079004_8_8</td>\n",
       "      <td>2018</td>\n",
       "      <td>1</td>\n",
       "      <td>4</td>\n",
       "      <td>35.0</td>\n",
       "      <td>V</td>\n",
       "      <td>34.0</td>\n",
       "      <td>...</td>\n",
       "      <td>42.0</td>\n",
       "      <td>V</td>\n",
       "      <td>36.0</td>\n",
       "      <td>V</td>\n",
       "      <td>35.0</td>\n",
       "      <td>V</td>\n",
       "      <td>34.0</td>\n",
       "      <td>V</td>\n",
       "      <td>28.0</td>\n",
       "      <td>V</td>\n",
       "    </tr>\n",
       "    <tr>\n",
       "      <th>97</th>\n",
       "      <td>28</td>\n",
       "      <td>79</td>\n",
       "      <td>4</td>\n",
       "      <td>28079004_8_8</td>\n",
       "      <td>2018</td>\n",
       "      <td>1</td>\n",
       "      <td>5</td>\n",
       "      <td>24.0</td>\n",
       "      <td>V</td>\n",
       "      <td>17.0</td>\n",
       "      <td>...</td>\n",
       "      <td>53.0</td>\n",
       "      <td>V</td>\n",
       "      <td>54.0</td>\n",
       "      <td>V</td>\n",
       "      <td>52.0</td>\n",
       "      <td>V</td>\n",
       "      <td>46.0</td>\n",
       "      <td>V</td>\n",
       "      <td>44.0</td>\n",
       "      <td>V</td>\n",
       "    </tr>\n",
       "  </tbody>\n",
       "</table>\n",
       "<p>5 rows × 55 columns</p>\n",
       "</div>"
      ],
      "text/plain": [
       "    PROVINCIA  MUNICIPIO  ESTACION PUNTO_MUESTREO   ANO  MES  DIA   H01 V01  \\\n",
       "93         28         79         4   28079004_8_8  2018    1    1  15.0   V   \n",
       "94         28         79         4   28079004_8_8  2018    1    2  13.0   V   \n",
       "95         28         79         4   28079004_8_8  2018    1    3  35.0   V   \n",
       "96         28         79         4   28079004_8_8  2018    1    4  35.0   V   \n",
       "97         28         79         4   28079004_8_8  2018    1    5  24.0   V   \n",
       "\n",
       "     H02  ...   H20  V20   H21  V21   H22  V22   H23  V23   H24  V24  \n",
       "93  35.0  ...  39.0    V  35.0    V  27.0    V  23.0    V  11.0    V  \n",
       "94  17.0  ...  38.0    V  41.0    V  47.0    V  55.0    V  47.0    V  \n",
       "95  17.0  ...  53.0    V  47.0    V  51.0    V  56.0    V  41.0    V  \n",
       "96  34.0  ...  42.0    V  36.0    V  35.0    V  34.0    V  28.0    V  \n",
       "97  17.0  ...  53.0    V  54.0    V  52.0    V  46.0    V  44.0    V  \n",
       "\n",
       "[5 rows x 55 columns]"
      ]
     },
     "execution_count": 39,
     "metadata": {},
     "output_type": "execute_result"
    }
   ],
   "source": [
    "df_ene_NO2.head()"
   ]
  },
  {
   "cell_type": "code",
   "execution_count": 42,
   "metadata": {},
   "outputs": [
    {
     "name": "stdout",
     "output_type": "stream",
     "text": [
      "We have kept 15.93 % of the original dataset\n"
     ]
    }
   ],
   "source": [
    "print(f\"We have kept {100*len(df_ene_NO2) / len(df_ene):.2f} % of the original dataset\")"
   ]
  },
  {
   "cell_type": "markdown",
   "metadata": {},
   "source": [
    "Now we should filter by deleting/interpolating the values of H_X when V_X is 'N'. But before choosing how to input these data, we are going to analyze how many hour values have a Not valid measure. And also check what values are being input. If those values are a interpolation of the other measurements, we could consider keeping those."
   ]
  },
  {
   "cell_type": "code",
   "execution_count": 53,
   "metadata": {},
   "outputs": [
    {
     "data": {
      "text/plain": [
       "array(['V', 'N'], dtype=object)"
      ]
     },
     "execution_count": 53,
     "metadata": {},
     "output_type": "execute_result"
    }
   ],
   "source": [
    "# What values do we have\n",
    "df_ene_NO2.V04.unique()"
   ]
  },
  {
   "cell_type": "code",
   "execution_count": 49,
   "metadata": {},
   "outputs": [
    {
     "name": "stdout",
     "output_type": "stream",
     "text": [
      "['V01', 'V02', 'V03', 'V04', 'V05', 'V06', 'V07', 'V08', 'V09', 'V10', 'V11', 'V12', 'V13', 'V14', 'V15', 'V16', 'V17', 'V18', 'V19', 'V20', 'V21', 'V22', 'V23', 'V24']\n"
     ]
    }
   ],
   "source": [
    "# Create a list with values [V01, V02,...,V24]\n",
    "V_list = ['V{:02d}'.format(i) for i in range(1, 25)]\n",
    "\n",
    "print(V_list)"
   ]
  },
  {
   "cell_type": "code",
   "execution_count": 58,
   "metadata": {},
   "outputs": [
    {
     "name": "stdout",
     "output_type": "stream",
     "text": [
      "V01     0\n",
      "V02     0\n",
      "V03     0\n",
      "V04     1\n",
      "V05     2\n",
      "V06     1\n",
      "V07     1\n",
      "V08     1\n",
      "V09     4\n",
      "V10     9\n",
      "V11     6\n",
      "V12    11\n",
      "V13     5\n",
      "V14     6\n",
      "V15     3\n",
      "V16     2\n",
      "V17     4\n",
      "V18     3\n",
      "V19     3\n",
      "V20     2\n",
      "V21     1\n",
      "V22     0\n",
      "V23     0\n",
      "V24     0\n",
      "dtype: int64\n"
     ]
    }
   ],
   "source": [
    "# Count the times 'N' appears each hour\n",
    "count_N_values = df_ene_NO2[V_list].apply(lambda x: x.map({'N' : 1, 'V' : 0})).sum()\n",
    "\n",
    "# Mostrar los resultados\n",
    "print(count_N_values)"
   ]
  },
  {
   "cell_type": "code",
   "execution_count": 62,
   "metadata": {},
   "outputs": [
    {
     "data": {
      "text/plain": [
       "1.478494623655914"
      ]
     },
     "execution_count": 62,
     "metadata": {},
     "output_type": "execute_result"
    }
   ],
   "source": [
    "100*11 / len(df_ene_NO2.V12)"
   ]
  },
  {
   "cell_type": "markdown",
   "metadata": {},
   "source": [
    "Let's check our data in hour 12"
   ]
  },
  {
   "cell_type": "code",
   "execution_count": 59,
   "metadata": {},
   "outputs": [
    {
     "data": {
      "text/html": [
       "<div>\n",
       "<style scoped>\n",
       "    .dataframe tbody tr th:only-of-type {\n",
       "        vertical-align: middle;\n",
       "    }\n",
       "\n",
       "    .dataframe tbody tr th {\n",
       "        vertical-align: top;\n",
       "    }\n",
       "\n",
       "    .dataframe thead th {\n",
       "        text-align: right;\n",
       "    }\n",
       "</style>\n",
       "<table border=\"1\" class=\"dataframe\">\n",
       "  <thead>\n",
       "    <tr style=\"text-align: right;\">\n",
       "      <th></th>\n",
       "      <th>H12</th>\n",
       "      <th>V12</th>\n",
       "    </tr>\n",
       "  </thead>\n",
       "  <tbody>\n",
       "    <tr>\n",
       "      <th>108</th>\n",
       "      <td>82.0</td>\n",
       "      <td>N</td>\n",
       "    </tr>\n",
       "    <tr>\n",
       "      <th>249</th>\n",
       "      <td>61.0</td>\n",
       "      <td>N</td>\n",
       "    </tr>\n",
       "    <tr>\n",
       "      <th>262</th>\n",
       "      <td>71.0</td>\n",
       "      <td>N</td>\n",
       "    </tr>\n",
       "    <tr>\n",
       "      <th>1182</th>\n",
       "      <td>65.0</td>\n",
       "      <td>N</td>\n",
       "    </tr>\n",
       "    <tr>\n",
       "      <th>1865</th>\n",
       "      <td>50.0</td>\n",
       "      <td>N</td>\n",
       "    </tr>\n",
       "    <tr>\n",
       "      <th>2062</th>\n",
       "      <td>95.0</td>\n",
       "      <td>N</td>\n",
       "    </tr>\n",
       "    <tr>\n",
       "      <th>2237</th>\n",
       "      <td>59.0</td>\n",
       "      <td>N</td>\n",
       "    </tr>\n",
       "    <tr>\n",
       "      <th>2240</th>\n",
       "      <td>45.0</td>\n",
       "      <td>N</td>\n",
       "    </tr>\n",
       "    <tr>\n",
       "      <th>3104</th>\n",
       "      <td>79.0</td>\n",
       "      <td>N</td>\n",
       "    </tr>\n",
       "    <tr>\n",
       "      <th>3551</th>\n",
       "      <td>58.0</td>\n",
       "      <td>N</td>\n",
       "    </tr>\n",
       "    <tr>\n",
       "      <th>4015</th>\n",
       "      <td>90.0</td>\n",
       "      <td>N</td>\n",
       "    </tr>\n",
       "  </tbody>\n",
       "</table>\n",
       "</div>"
      ],
      "text/plain": [
       "       H12 V12\n",
       "108   82.0   N\n",
       "249   61.0   N\n",
       "262   71.0   N\n",
       "1182  65.0   N\n",
       "1865  50.0   N\n",
       "2062  95.0   N\n",
       "2237  59.0   N\n",
       "2240  45.0   N\n",
       "3104  79.0   N\n",
       "3551  58.0   N\n",
       "4015  90.0   N"
      ]
     },
     "execution_count": 59,
     "metadata": {},
     "output_type": "execute_result"
    }
   ],
   "source": [
    "df_ene_NO2[df_ene_NO2['V12'] == 'N'][['H12', 'V12']]"
   ]
  },
  {
   "cell_type": "markdown",
   "metadata": {},
   "source": [
    "We should now see how our invalid data changes when compared to the valid data. If it doesn't change much we can consider keeping it. We must otherwise decide how to input those values"
   ]
  },
  {
   "cell_type": "code",
   "execution_count": null,
   "metadata": {},
   "outputs": [],
   "source": []
  },
  {
   "cell_type": "code",
   "execution_count": null,
   "metadata": {},
   "outputs": [],
   "source": [
    "\n",
    "# Data Cleaning\n",
    "# (Assuming columns like 'Date', 'NO2_Level', 'Station_ID', etc.)\n",
    "# Add additional cleaning steps based on your actual dataset\n",
    "df_no2['Date'] = pd.to_datetime(df_no2['Date'])\n",
    "df_no2 = df_no2[df_no2['Pollutant'] == 'NO2']  # Only keep NO2 measurements"
   ]
  },
  {
   "cell_type": "code",
   "execution_count": null,
   "metadata": {},
   "outputs": [],
   "source": [
    "# Data Exploration\n",
    "# Visualizing daily evolution\n",
    "plt.figure(figsize=(12, 6))\n",
    "sns.lineplot(x='Date', y='NO2_Level', data=df_no2)\n",
    "plt.title('Daily Evolution of NO2 Levels in Madrid (2018)')\n",
    "plt.xlabel('Date')\n",
    "plt.ylabel('NO2 Level')\n",
    "plt.show()"
   ]
  },
  {
   "cell_type": "code",
   "execution_count": null,
   "metadata": {},
   "outputs": [],
   "source": [
    "# Visualizing monthly evolution\n",
    "df_no2_monthly = df_no2.resample('M', on='Date').mean()\n",
    "plt.figure(figsize=(12, 6))\n",
    "sns.barplot(x=df_no2_monthly.index, y='NO2_Level', data=df_no2_monthly)\n",
    "plt.title('Monthly Average NO2 Levels in Madrid (2018)')\n",
    "plt.xlabel('Month')\n",
    "plt.ylabel('Average NO2 Level')\n",
    "plt.show()"
   ]
  },
  {
   "cell_type": "code",
   "execution_count": null,
   "metadata": {},
   "outputs": [],
   "source": [
    "\n",
    "\n",
    "# Exploring factors affecting NO2 levels\n",
    "# (Assuming additional columns like 'Temperature', 'Weather', etc.)\n",
    "# Add relevant exploration based on your actual dataset\n",
    "plt.figure(figsize=(12, 6))\n",
    "sns.scatterplot(x='Temperature', y='NO2_Level', data=df_no2, hue='Weather')\n",
    "plt.title('Scatter Plot of NO2 Levels vs Temperature (2018)')\n",
    "plt.xlabel('Temperature')\n",
    "plt.ylabel('NO2 Level')\n",
    "plt.legend(title='Weather')\n",
    "plt.show()"
   ]
  },
  {
   "cell_type": "code",
   "execution_count": null,
   "metadata": {},
   "outputs": [],
   "source": [
    "\n",
    "# Proposed Predictive Model\n",
    "# (Provide detailed discussion and rationale, the following is a placeholder)\n",
    "print(\"Proposed Predictive Model:\")\n",
    "print(\"Variables to introduce: Temperature, Season, Previous NO2 Levels\")\n",
    "print(\"Historical Data Depth: Consider using at least one year of historical data\")\n",
    "print(\"Modeling Techniques: Try linear regression, time series models, etc.\")\n"
   ]
  }
 ],
 "metadata": {
  "kernelspec": {
   "display_name": "Python 3",
   "language": "python",
   "name": "python3"
  },
  "language_info": {
   "codemirror_mode": {
    "name": "ipython",
    "version": 3
   },
   "file_extension": ".py",
   "mimetype": "text/x-python",
   "name": "python",
   "nbconvert_exporter": "python",
   "pygments_lexer": "ipython3",
   "version": "3.11.0"
  }
 },
 "nbformat": 4,
 "nbformat_minor": 2
}
